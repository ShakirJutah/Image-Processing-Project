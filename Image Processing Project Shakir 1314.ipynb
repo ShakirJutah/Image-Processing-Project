{
 "cells": [
  {
   "cell_type": "code",
   "execution_count": 21,
   "id": "89fd102e",
   "metadata": {},
   "outputs": [],
   "source": [
    "from PIL import Image, ImageFilter,ImageEnhance,ImageOps\n",
    "import os"
   ]
  },
  {
   "cell_type": "code",
   "execution_count": 4,
   "id": "9f7b9416",
   "metadata": {},
   "outputs": [],
   "source": [
    "img = Image.open(\"codershubb_img.png\")\n",
    "# display the image\n",
    "img.show()\n"
   ]
  },
  {
   "cell_type": "code",
   "execution_count": 7,
   "id": "e0102520",
   "metadata": {},
   "outputs": [
    {
     "name": "stdout",
     "output_type": "stream",
     "text": [
      "Your images are saved in the following directory:\n",
      " C:\\Users\\xW\n"
     ]
    }
   ],
   "source": [
    "# open the image\n",
    "\n",
    "img = Image.open(\"codershubb_img.png\")\n",
    "'''save the image with original image format\n",
    "img.save(\"image name with original format extension\")'''\n",
    "img.save(\"new_img.png\")\n",
    "'''save the image with different image format\n",
    "img.save(\"image name with new format extension\", \"original format\")'''\n",
    "img.save(\"new_img_1.jpg\", \"png\")\n",
    "print(\"Your images are saved in the following directory:\\n\", os.getcwd())"
   ]
  },
  {
   "cell_type": "code",
   "execution_count": 8,
   "id": "ee51b11f",
   "metadata": {},
   "outputs": [],
   "source": [
    "#Create blurred image\n",
    "\n",
    "img = Image.open(\"codershubb_img.png\")\n",
    "# blur image\n",
    "img1 = img.filter(ImageFilter.BoxBlur(5))\n",
    "img1.show()"
   ]
  },
  {
   "cell_type": "code",
   "execution_count": 10,
   "id": "9d3dd39b",
   "metadata": {},
   "outputs": [],
   "source": [
    "#Enhance the image\n",
    "\n",
    "img = Image.open(\"codershubb_img.png\")\n",
    "img1 = ImageEnhance.Brightness(img)\n",
    "img2 = img1.enhance(8)\n",
    "img2.show()"
   ]
  },
  {
   "cell_type": "code",
   "execution_count": 19,
   "id": "4a88d32f",
   "metadata": {},
   "outputs": [],
   "source": [
    "#Create contrast image\n",
    "\n",
    "img = Image.open(\"codershubb_img.png\")\n",
    "img1 = ImageEnhance.Contrast(img)\n",
    "img2 = img1.enhance(8.0)\n",
    "img2.show()"
   ]
  },
  {
   "cell_type": "code",
   "execution_count": 12,
   "id": "12774e3e",
   "metadata": {},
   "outputs": [],
   "source": [
    "#Rotating an image\n",
    "\n",
    "\n",
    "img = Image.open(\"codershubb_img.png\")\n",
    "# rotate image\n",
    "img1 = img.rotate(90)\n",
    "#display image\n",
    "img1.show()"
   ]
  },
  {
   "cell_type": "code",
   "execution_count": 15,
   "id": "b40df4dc",
   "metadata": {},
   "outputs": [
    {
     "name": "stdout",
     "output_type": "stream",
     "text": [
      "Resized image is saved in the following directory:\n",
      " C:\\Users\\xW\n"
     ]
    }
   ],
   "source": [
    "#Resizing the image\n",
    "\n",
    "\n",
    "img = Image.open(\"codershubb_img.png\")\n",
    "img1 = img.resize((50, 50))\n",
    "img1.save(\"resized.png\")\n",
    "print(\"Resized image is saved in the following directory:\\n\", os.getcwd())\n",
    "img1.show()"
   ]
  },
  {
   "cell_type": "code",
   "execution_count": 18,
   "id": "a97439fa",
   "metadata": {},
   "outputs": [],
   "source": [
    "#Crop the image\n",
    "\n",
    "img = Image.open(\"codershubb_img.png\")\n",
    "width, height = img.size \n",
    "area = (0, 180, width, height/1.5) \n",
    "img1 = img.crop(area) \n",
    "img1.show()"
   ]
  },
  {
   "cell_type": "code",
   "execution_count": 20,
   "id": "92e32cb4",
   "metadata": {},
   "outputs": [],
   "source": [
    "#Flip the image\n",
    "\n",
    "\n",
    "img = Image.open(\"codershubb_img.png\")\n",
    "# flip image from left to right\n",
    "img1 = img.transpose(Image.FLIP_LEFT_RIGHT)\n",
    "# display image\n",
    "img1.show()"
   ]
  },
  {
   "cell_type": "code",
   "execution_count": 22,
   "id": "6a510cee",
   "metadata": {},
   "outputs": [],
   "source": [
    "#Expand image (add border to an image)\n",
    "\n",
    "\n",
    "img = Image.open(\"codershubb_img.png\")\n",
    "# add border to the image\n",
    "img1 = ImageOps.expand(img, border=20, fill='blue')\n",
    "# display image\n",
    "img1.show()"
   ]
  },
  {
   "cell_type": "code",
   "execution_count": 23,
   "id": "33ecc7bc",
   "metadata": {},
   "outputs": [],
   "source": [
    "#Create thumbnail of an image\n",
    "\n",
    "img = Image.open(\"codershubb_img.png\")\n",
    "# create thumbnail\n",
    "img.thumbnail((128, 128))\n",
    "# save image\n",
    "img.save(\"thumbnail.png\")\n",
    "# display image\n",
    "img.show()"
   ]
  },
  {
   "cell_type": "code",
   "execution_count": 24,
   "id": "24e0f3c5",
   "metadata": {},
   "outputs": [
    {
     "name": "stdout",
     "output_type": "stream",
     "text": [
      "Width = 348, Height = 319\n"
     ]
    }
   ],
   "source": [
    "#Getting size of an image\n",
    "\n",
    "img = Image.open(\"codershubb_img.png\")\n",
    "# get size of n image\n",
    "width, height = img.size\n",
    "# display width and height\n",
    "print(f\"Width = {width}, Height = {height}\")"
   ]
  },
  {
   "cell_type": "code",
   "execution_count": 25,
   "id": "99827e7a",
   "metadata": {},
   "outputs": [
    {
     "name": "stdout",
     "output_type": "stream",
     "text": [
      "Filename: codershubb_img.png\n",
      "Format: PNG\n",
      "Mode: RGBA\n"
     ]
    }
   ],
   "source": [
    "#Getting image attributes (name, format, mode)\n",
    "\n",
    "\n",
    "img = Image.open(\"codershubb_img.png\")\n",
    "# get image attribute\n",
    "name = img.filename\n",
    "extension = img.format\n",
    "mode = img.mode\n",
    "# display attributes\n",
    "print(f\"Filename: {name}\")\n",
    "print(f\"Format: {extension}\")\n",
    "print(f\"Mode: {mode}\")"
   ]
  },
  {
   "cell_type": "code",
   "execution_count": 27,
   "id": "34261325",
   "metadata": {},
   "outputs": [],
   "source": [
    "#Convert an image into black and white image\n",
    "\n",
    "img = Image.open(\"codershubb_img.png\")  \n",
    "# add border to the image\n",
    "img1 = img.convert('L')\n",
    "# display image\n",
    "img1.show()"
   ]
  },
  {
   "cell_type": "code",
   "execution_count": null,
   "id": "69e87fbc",
   "metadata": {},
   "outputs": [],
   "source": []
  }
 ],
 "metadata": {
  "kernelspec": {
   "display_name": "Python 3 (ipykernel)",
   "language": "python",
   "name": "python3"
  },
  "language_info": {
   "codemirror_mode": {
    "name": "ipython",
    "version": 3
   },
   "file_extension": ".py",
   "mimetype": "text/x-python",
   "name": "python",
   "nbconvert_exporter": "python",
   "pygments_lexer": "ipython3",
   "version": "3.9.7"
  }
 },
 "nbformat": 4,
 "nbformat_minor": 5
}
